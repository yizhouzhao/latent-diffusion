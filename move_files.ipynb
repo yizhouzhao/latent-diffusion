{
 "cells": [
  {
   "cell_type": "code",
   "execution_count": 1,
   "id": "bfdace51-1f82-4fbb-8a84-61c839c8d1f8",
   "metadata": {},
   "outputs": [],
   "source": [
    "import os\n",
    "import itertools\n",
    "import shutil\n",
    "\n",
    "\n",
    "def move(destination):\n",
    "    all_files = []\n",
    "    for root, _dirs, files in itertools.islice(os.walk(destination), 1, None):\n",
    "        for filename in files:\n",
    "            all_files.append(os.path.join(root, filename))\n",
    "    for filename in all_files:\n",
    "        shutil.move(filename, destination)"
   ]
  },
  {
   "cell_type": "code",
   "execution_count": 3,
   "id": "52d8cfaf-5fbb-4a21-bbf5-280d7c70b6ed",
   "metadata": {},
   "outputs": [],
   "source": [
    "destination = \"D:/research/lsun/churches/\""
   ]
  },
  {
   "cell_type": "code",
   "execution_count": 4,
   "id": "8af4fe9d-e245-4dc2-b608-4b1812be9068",
   "metadata": {},
   "outputs": [],
   "source": [
    "move(destination)"
   ]
  },
  {
   "cell_type": "code",
   "execution_count": null,
   "id": "f1d5ba4e-09dd-41b9-9f5c-091f4b965ca6",
   "metadata": {},
   "outputs": [],
   "source": []
  }
 ],
 "metadata": {
  "kernelspec": {
   "display_name": "vrkit",
   "language": "python",
   "name": "vrkit"
  },
  "language_info": {
   "codemirror_mode": {
    "name": "ipython",
    "version": 3
   },
   "file_extension": ".py",
   "mimetype": "text/x-python",
   "name": "python",
   "nbconvert_exporter": "python",
   "pygments_lexer": "ipython3",
   "version": "3.8.13"
  }
 },
 "nbformat": 4,
 "nbformat_minor": 5
}
